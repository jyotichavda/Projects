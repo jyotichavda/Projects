{
 "cells": [
  {
   "cell_type": "code",
   "execution_count": null,
   "metadata": {},
   "outputs": [],
   "source": [
    "import pandas as pd\n",
    "import numpy as np\n",
    "import matplotlib.pyplot as plt\n",
    "import seaborn as sns\n",
    "import csv\n",
    "%matplotlib inline"
   ]
  },
  {
   "cell_type": "code",
   "execution_count": null,
   "metadata": {},
   "outputs": [],
   "source": [
    "#Read CSV\n",
    "with open('C:/Users/Imtiyaz/Desktop/Inernational_student_Dataset/Students from Ireland and Northern Ireland Enrolled in Third Level by type of institute+origin year.csv', \"r\") as f:\n",
    "    reader = csv.reader(f)\n",
    "    csv = []\n",
    "    for column in reader:\n",
    "        csv.append(column)"
   ]
  },
  {
   "cell_type": "code",
   "execution_count": null,
   "metadata": {},
   "outputs": [],
   "source": [
    "#view full dataset\n",
    "pd.set_option('display.max_columns', None)\n",
    "pd.set_option('display.max_rows', None)"
   ]
  },
  {
   "cell_type": "code",
   "execution_count": null,
   "metadata": {},
   "outputs": [],
   "source": [
    "#convert list into dataframe\n",
    "stud_enrollment = pd.DataFrame(csv)"
   ]
  },
  {
   "cell_type": "code",
   "execution_count": null,
   "metadata": {},
   "outputs": [],
   "source": [
    "# Delete rows with index label   \n",
    "stud_enrollment= stud_enrollment.drop(stud_enrollment.index[:5])"
   ]
  },
  {
   "cell_type": "code",
   "execution_count": null,
   "metadata": {},
   "outputs": [],
   "source": [
    "stud_enrollment = stud_enrollment.drop([0], axis=1)"
   ]
  },
  {
   "cell_type": "code",
   "execution_count": null,
   "metadata": {},
   "outputs": [],
   "source": [
    "# reseting index of dataframe \n",
    "stud_enrollment = stud_enrollment.reset_index(drop=True)"
   ]
  },
  {
   "cell_type": "code",
   "execution_count": null,
   "metadata": {},
   "outputs": [],
   "source": [
    "# Droping rows from dataframe \n",
    "stud_enrollment= stud_enrollment.drop(stud_enrollment.index[34:])"
   ]
  },
  {
   "cell_type": "code",
   "execution_count": null,
   "metadata": {},
   "outputs": [],
   "source": [
    "# fill missing values with zeros\n",
    "stud_enrollment = stud_enrollment.applymap(lambda x: str(x.replace('..','0')))"
   ]
  },
  {
   "cell_type": "code",
   "execution_count": null,
   "metadata": {},
   "outputs": [],
   "source": [
    "# Rename the columns \n",
    "stud_enrollment.columns = ['Counties', '2000','2001','2002','2003','2004','2005','2006','2007','2008','2009','2010','2011','2012','2013','2014','2015','2016','2017']"
   ]
  },
  {
   "cell_type": "code",
   "execution_count": null,
   "metadata": {},
   "outputs": [],
   "source": [
    "stud_enrollment"
   ]
  },
  {
   "cell_type": "code",
   "execution_count": null,
   "metadata": {},
   "outputs": [],
   "source": [
    "stud_enrollment.dtypes"
   ]
  },
  {
   "cell_type": "code",
   "execution_count": null,
   "metadata": {},
   "outputs": [],
   "source": [
    "stud_enrollment =  stud_enrollment.astype({'Counties':str,'2000':float,'2001':float,'2002':float,'2003':float,'2004':float,'2005':float,'2006':float,'2007':float,'2008':float,'2009':float,'2010':float,'2011':float,'2012':float,'2013':float,'2014':float,'2015':float,'2016':float,'2017':float})\n",
    "print(stud_enrollment.dtypes)"
   ]
  },
  {
   "cell_type": "code",
   "execution_count": null,
   "metadata": {},
   "outputs": [],
   "source": [
    "stud_enrollment.to_csv(r'C:/Users/Imtiyaz/Desktop/Inernational_student_Dataset/clean_data/Enrolled in Third Level by type of institute by their counties in Ireland.csv' , index=False)"
   ]
  },
  {
   "cell_type": "code",
   "execution_count": null,
   "metadata": {},
   "outputs": [],
   "source": [
    "plt.bar(stud_enrollment['Counties'], stud_enrollment['2000'], align='center')\n",
    "\n",
    "plt.xlabel('Student origin by their counties')\n",
    "plt.ylabel('Count')\n",
    "plt.title('Enrolment in 3rd level education in Ireland by their counties')\n",
    "plt.xticks(rotation=90)\n",
    "plt.show()"
   ]
  },
  {
   "cell_type": "code",
   "execution_count": null,
   "metadata": {},
   "outputs": [],
   "source": [
    "plt.bar(stud_enrollment['Counties'], stud_enrollment['2011'], align='center')\n",
    "\n",
    "plt.xlabel('Student origin by their counties')\n",
    "plt.ylabel('Count')\n",
    "plt.title('Enrolment in 3rd level education in Ireland by their counties')\n",
    "plt.xticks(rotation=90)\n",
    "plt.show()"
   ]
  },
  {
   "cell_type": "code",
   "execution_count": null,
   "metadata": {},
   "outputs": [],
   "source": []
  }
 ],
 "metadata": {
  "kernelspec": {
   "display_name": "Python 3",
   "language": "python",
   "name": "python3"
  },
  "language_info": {
   "codemirror_mode": {
    "name": "ipython",
    "version": 3
   },
   "file_extension": ".py",
   "mimetype": "text/x-python",
   "name": "python",
   "nbconvert_exporter": "python",
   "pygments_lexer": "ipython3",
   "version": "3.7.6"
  }
 },
 "nbformat": 4,
 "nbformat_minor": 4
}
