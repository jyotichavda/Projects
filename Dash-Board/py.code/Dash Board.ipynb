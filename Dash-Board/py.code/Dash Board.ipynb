{
 "cells": [
  {
   "cell_type": "code",
   "execution_count": 1,
   "metadata": {},
   "outputs": [],
   "source": [
    "import pandas as pd #(version 0.24.2)\n",
    "import datetime as dt\n",
    "import dash         #(version 1.9.1)\n",
    "import dash_core_components as dcc\n",
    "import dash_html_components as html\n",
    "from dash.dependencies import Input, Output\n",
    "from dash.exceptions import PreventUpdate\n",
    "import plotly       #(version 4.5.4)\n",
    "import plotly.express as px\n",
    "import plotly.graph_objs as go\n",
    "from ipywidgets import interact, interactive, fixed, interact_manual\n",
    "import ipywidgets as widgets\n",
    "import numpy as np"
   ]
  },
  {
   "cell_type": "code",
   "execution_count": 2,
   "metadata": {},
   "outputs": [
    {
     "name": "stdout",
     "output_type": "stream",
     "text": [
      "1.9.1\n",
      "1.8.1\n",
      "4.5.4\n"
     ]
    }
   ],
   "source": [
    "print(dash.__version__)\n",
    "print(dcc.__version__)\n",
    "print(plotly.__version__)"
   ]
  },
  {
   "cell_type": "code",
   "execution_count": 3,
   "metadata": {},
   "outputs": [],
   "source": [
    "external_stylesheets = [\"https://codepen.io/chriddyp/pen/bWLwgP.css\"]"
   ]
  },
  {
   "cell_type": "code",
   "execution_count": 4,
   "metadata": {},
   "outputs": [],
   "source": [
    "stu_enrollment_counties = pd.read_csv(\"C:/Users/Imtiyaz/Desktop/Inernational_student_Dataset/enrolment_by_counties.csv\")"
   ]
  },
  {
   "cell_type": "code",
   "execution_count": 5,
   "metadata": {},
   "outputs": [],
   "source": [
    "International_student_enrollment = pd.read_csv(\"C:/Users/Imtiyaz/Desktop/Inernational_student_Dataset/clean_data/student_enrollment_by_year.csv\")"
   ]
  },
  {
   "cell_type": "code",
   "execution_count": 6,
   "metadata": {},
   "outputs": [],
   "source": [
    "Enrollment_by_Institute = pd.read_csv(\"C:/Users/Imtiyaz/Desktop/Inernational_student_Dataset/clean_data/student_enrollment_by_Institute_Final.csv\")"
   ]
  },
  {
   "cell_type": "code",
   "execution_count": 7,
   "metadata": {},
   "outputs": [],
   "source": [
    "df_new = pd.concat([stu_enrollment_counties,International_student_enrollment,Enrollment_by_Institute], axis=0, ignore_index=True)"
   ]
  },
  {
   "cell_type": "code",
   "execution_count": 8,
   "metadata": {},
   "outputs": [
    {
     "data": {
      "text/plain": [
       "Index(['Counties', 'Student_Origin', '2000', '2001', '2002', '2003', '2004',\n",
       "       '2005', '2006', '2007', '2008', '2009', '2010', '2011', '2012', '2013',\n",
       "       '2014', '2015', '2016', '2017', 'Countries', 'Study_Mode', 'Institute'],\n",
       "      dtype='object')"
      ]
     },
     "execution_count": 8,
     "metadata": {},
     "output_type": "execute_result"
    }
   ],
   "source": [
    "df_new.columns"
   ]
  },
  {
   "cell_type": "code",
   "execution_count": 9,
   "metadata": {},
   "outputs": [],
   "source": [
    "df_new_1 = df_new.loc[(df_new['Student_Origin'] == 'All counties (2)') | (df_new['Countries'] == 'All countries')]"
   ]
  },
  {
   "cell_type": "code",
   "execution_count": 10,
   "metadata": {},
   "outputs": [],
   "source": [
    "df_new_1 = df_new_1.replace(np.nan, '', regex=True)"
   ]
  },
  {
   "cell_type": "code",
   "execution_count": 11,
   "metadata": {},
   "outputs": [],
   "source": [
    "df_new_1['total_number'] = df_new_1[['Student_Origin', 'Countries']].apply(lambda x: ' '.join(x), axis = 1) \n"
   ]
  },
  {
   "cell_type": "code",
   "execution_count": 12,
   "metadata": {},
   "outputs": [],
   "source": [
    "df_new_1 = df_new_1.drop(['Counties', 'Student_Origin', 'Countries', 'Study_Mode', 'Institute'], axis=1)"
   ]
  },
  {
   "cell_type": "code",
   "execution_count": 13,
   "metadata": {},
   "outputs": [],
   "source": [
    "df_new_1 = df_new_1.replace('All counties (2)','Irish Studnet', regex=True)\n",
    "df_new_1 = df_new_1.replace('All countries','International Student', regex=True)"
   ]
  },
  {
   "cell_type": "code",
   "execution_count": 14,
   "metadata": {},
   "outputs": [
    {
     "name": "stdout",
     "output_type": "stream",
     "text": [
      "         2000      2001      2002      2003      2004      2005      2006  \\\n",
      "0      2252.0    2454.0    2440.0    2301.0    2318.0    2293.0    2557.0   \n",
      "34    45270.0   46541.0   48296.0   49890.0   50833.0   50393.0   50569.0   \n",
      "68     4295.0    4458.0    4737.0    4892.0    5118.0    5270.0    5509.0   \n",
      "102    2523.0    2268.0    2535.0    2585.0    2942.0    2934.0    3020.0   \n",
      "136    2994.0    3099.0    3232.0    3325.0    3427.0    3225.0    3343.0   \n",
      "170   15674.0   16308.0   16926.0   17370.0   17750.0   18145.0   18242.0   \n",
      "204    2139.0    2261.0    2331.0    2332.0    2412.0    2386.0    2228.0   \n",
      "238   12478.0   13101.0   13245.0   13471.0   14031.0   13778.0   14524.0   \n",
      "272     162.0     184.0     269.0     325.0     364.0     373.0     373.0   \n",
      "306    5182.0    5324.0    5445.0    5690.0    5745.0    5267.0    5538.0   \n",
      "340   12161.0   12705.0   13613.0   14449.0   15206.0   14755.0   15210.0   \n",
      "374    3141.0    2982.0    3428.0    3641.0    3558.0    3713.0    4020.0   \n",
      "408    2122.0    2156.0    2078.0    2045.0    2135.0    1960.0    2077.0   \n",
      "442  122395.0  126300.0  131812.0  137323.0  143271.0  143546.0  145287.0   \n",
      "\n",
      "         2007      2008      2009      2010      2011      2012      2013  \\\n",
      "0      2796.0    2824.0    2931.0    3102.0    3345.0    3398.0    3541.0   \n",
      "34    51093.0   51896.0   54324.0   58729.0   60681.0   62972.0   63417.0   \n",
      "68     5514.0    5758.0    6234.0    6801.0    7270.0    7508.0    7667.0   \n",
      "102    3132.0    3325.0    3648.0    4079.0    4317.0    3918.0    3899.0   \n",
      "136    2962.0    2756.0    2868.0    3288.0    3468.0    3394.0    3473.0   \n",
      "170   18383.0   19211.0   19858.0   21306.0   21408.0   21528.0   21460.0   \n",
      "204    2214.0    1869.0    1975.0    2243.0    2378.0    2400.0    2392.0   \n",
      "238   14436.0   14387.0   15399.0   16210.0   16665.0   17326.0   17756.0   \n",
      "272     334.0     284.0     328.0     479.0     668.0       0.0       0.0   \n",
      "306    5459.0    5962.0    6137.0    6244.0    6416.0    6479.0    6541.0   \n",
      "340   14937.0   14919.0   15578.0   16733.0   17174.0   17183.0   15771.0   \n",
      "374    3905.0    3833.0    3870.0    4162.0    4255.0    4189.0    4216.0   \n",
      "408    2085.0    1844.0    2140.0    2403.0    2490.0    2464.0    2618.0   \n",
      "442  149502.0  147926.0  150674.0  164759.0  169317.0  166574.0  168640.0   \n",
      "\n",
      "         2014      2015      2016      2017            total_number  \n",
      "0      3590.0    3876.0    3983.0    4022.0       All counties (2)   \n",
      "34    64177.0   64864.0   65904.0   65892.0       All counties (2)   \n",
      "68     7889.0    8517.0    9066.0    9325.0       All counties (2)   \n",
      "102    3747.0    3853.0    3830.0    3761.0       All counties (2)   \n",
      "136    3559.0    3627.0    3436.0    3241.0       All counties (2)   \n",
      "170   21443.0   21603.0   22214.0   22569.0       All counties (2)   \n",
      "204    2375.0    2550.0    2392.0    2301.0       All counties (2)   \n",
      "238   17904.0   18134.0   19236.0   19511.0       All counties (2)   \n",
      "272       0.0       0.0       0.0       0.0       All counties (2)   \n",
      "306    6374.0    6199.0    6052.0    5923.0       All counties (2)   \n",
      "340   16218.0   16452.0   16929.0   18205.0       All counties (2)   \n",
      "374    4219.0    4251.0    4223.0    4101.0       All counties (2)   \n",
      "408    2655.0    2858.0    2913.0    2890.0       All counties (2)   \n",
      "442  173462.0  182623.0  188178.0  189147.0   International Student  \n"
     ]
    }
   ],
   "source": [
    "print(df_new_1)"
   ]
  },
  {
   "cell_type": "code",
   "execution_count": 15,
   "metadata": {},
   "outputs": [],
   "source": [
    "#df_new.to_csv(r'C:/Users/Imtiyaz/Desktop/Inernational_student_Dataset/clean_data/df_new.csv' , index=False)"
   ]
  },
  {
   "cell_type": "code",
   "execution_count": 16,
   "metadata": {},
   "outputs": [],
   "source": [
    "app = dash.Dash(__name__,external_stylesheets=external_stylesheets)"
   ]
  },
  {
   "cell_type": "code",
   "execution_count": 17,
   "metadata": {},
   "outputs": [],
   "source": [
    "app.layout = html.Div([\n",
    "\n",
    "\n",
    "    html.Div([\n",
    "            html.Pre(children= \"Student Enrollment in Ireland\", \n",
    "                     style={\"text-align\" : \"center\", \"font-size\" : \"30px\", \"color\" : \"black\", \"font-weight\" : \"bold\"}),\n",
    "            ]),\n",
    "    \n",
    "    html.Div([\n",
    "        html.Label(['Choose column:'],style={'font-weight': 'bold'}),\n",
    "        dcc.Dropdown(\n",
    "            id='xaxis_raditem',\n",
    "            options=[\n",
    "                {'label': 'Counties', 'value': 'Counties'},\n",
    "                {'label': 'Student_Origin', 'value': 'Student_Origin'}\n",
    "            ],\n",
    "            value='Student_Origin',     #dropdown value selected automatically when page loads\n",
    "            disabled=False,             #disable dropdown value selection\n",
    "            multi=False,                #allow multiple dropdown values to be selected\n",
    "            searchable=True,            #allow user-searching of dropdown values\n",
    "            clearable=True,             #allow user to removes the selected value\n",
    "            style={'width':\"50%\"},\n",
    "           \n",
    "        ),\n",
    "    ]),\n",
    "    \n",
    "    html.Br(),\n",
    "    \n",
    "    html.Div([\n",
    "        html.Label(['Choose Year:'],style={'font-weight': 'bold'}),\n",
    "        dcc.Dropdown(\n",
    "            id='yaxis_raditem',\n",
    "            options=[\n",
    "                     {'label': '2000', 'value': '2000'},\n",
    "                     {'label': '2001', 'value': '2001'},\n",
    "                     {'label': '2002', 'value': '2002'},\n",
    "                     {'label': '2003', 'value': '2003'},\n",
    "                     {'label': '2004', 'value': '2004'},\n",
    "                     {'label': '2005', 'value': '2005'},\n",
    "                     {'label': '2006', 'value': '2006'},\n",
    "                     {'label': '2007', 'value': '2007'},\n",
    "                     {'label': '2008', 'value': '2008'},\n",
    "                     {'label': '2009', 'value': '2009'},\n",
    "                     {'label': '2010', 'value': '2010'},\n",
    "                     {'label': '2011', 'value': '2011'},\n",
    "                     {'label': '2012', 'value': '2012'},\n",
    "                     {'label': '2013', 'value': '2013'},\n",
    "                     {'label': '2014', 'value': '2014'},\n",
    "                     {'label': '2015', 'value': '2015'},\n",
    "                     {'label': '2016', 'value': '2016'},\n",
    "                     {'label': '2017', 'value': '2017'}\n",
    "            ],\n",
    "            value='2000',               #dropdown value selected automatically when page loads\n",
    "            disabled=False,             #disable dropdown value selection\n",
    "            multi=False,                #allow multiple dropdown values to be selected\n",
    "            searchable=True,            #allow user-searching of dropdown values\n",
    "            clearable=True,             #allow user to removes the selected value\n",
    "            style={'width':\"50%\"},\n",
    "        ),\n",
    "    ]),\n",
    "    \n",
    "        html.Div([\n",
    "        dcc.Graph(id='the_graph_3') \n",
    "        ]),\n",
    "    \n",
    "    html.Hr(),\n",
    "    \n",
    "    html.Div([\n",
    "        dcc.Graph(id='the_graph'),\n",
    "\n",
    "        ]),\n",
    "    \n",
    "    html.Hr(),\n",
    "    \n",
    "    html.Div([\n",
    "        dcc.Graph(id='the_graph_1') \n",
    "        ]),\n",
    "    \n",
    "    html.Hr(),\n",
    "    \n",
    "    html.Div([\n",
    "        dcc.Graph(id='the_graph_2') \n",
    "        ]),\n",
    "    \n",
    "])\n"
   ]
  },
  {
   "cell_type": "code",
   "execution_count": 18,
   "metadata": {},
   "outputs": [],
   "source": [
    "@app.callback(\n",
    "    Output(component_id='the_graph_3', component_property='figure'),\n",
    "    [Input(component_id='yaxis_raditem', component_property='value')]\n",
    ")\n",
    "\n",
    "def update_graph(yaxis_raditem):\n",
    "    dff = df_new_1\n",
    "\n",
    "    piechart=px.pie(\n",
    "            data_frame=dff,\n",
    "            names=dff.total_number,\n",
    "            values=yaxis_raditem,\n",
    "            title='Comparison of Irish and International students Enrollment',\n",
    "            hole=.3,\n",
    "            )\n",
    "    \n",
    "    piechart.update_layout(title={'xanchor':'center', 'yanchor': 'top', 'y':0.9,'x':0.5,})\n",
    "    \n",
    "    return (piechart)\n"
   ]
  },
  {
   "cell_type": "code",
   "execution_count": 19,
   "metadata": {},
   "outputs": [],
   "source": [
    "@app.callback(\n",
    "    Output(component_id='the_graph', component_property='figure'),\n",
    "    [Input(component_id='xaxis_raditem', component_property='value'),\n",
    "     Input(component_id='yaxis_raditem', component_property='value')]\n",
    ")\n",
    "\n",
    "def update_graph(xaxis_raditem, yaxis_raditem):\n",
    "\n",
    "    #dff = df_new.iloc[:,0:20]\n",
    "    dff = df_new.iloc[0:442,0:20]\n",
    "    dff=dff.fillna(0)\n",
    "    \n",
    "    barchart=px.bar(\n",
    "            data_frame=dff,\n",
    "            x=xaxis_raditem,\n",
    "            y=yaxis_raditem,\n",
    "            title= 'Irish Student Enrollment by their Counties',\n",
    "            )\n",
    "\n",
    "    barchart.update_layout(xaxis={'categoryorder':'total ascending'},\n",
    "                           #yaxis={'title': 'Number of Students', 'range': [100, 200000]},\n",
    "                           title={'xanchor':'center', 'yanchor': 'top', 'y':0.9,'x':0.5,})\n",
    "\n",
    "    return (barchart)"
   ]
  },
  {
   "cell_type": "code",
   "execution_count": 20,
   "metadata": {},
   "outputs": [],
   "source": [
    "@app.callback(\n",
    "     Output(component_id='the_graph_1', component_property='figure'),\n",
    "    [Input(component_id='yaxis_raditem', component_property='value')]\n",
    ")\n",
    "\n",
    "def update_output(y_axis):\n",
    "    \n",
    "    dff = df_new.iloc[:,2:21]\n",
    "    \n",
    "    fig = px.choropleth(dff, locations=dff.Countries,\n",
    "                        color=y_axis,\n",
    "                        hover_name=dff.Countries,\n",
    "                        projection='natural earth',\n",
    "                        locationmode='country names',\n",
    "                        title='International Student Enrollment',\n",
    "                        #color_continuous_scale= [[0, 'green'], [0.2, 'red'], [1.0, 'rgb(0, 0, 255)']],\n",
    "                        color_continuous_scale=px.colors.diverging.BrBG,\n",
    "                        range_color=(100, 15000),\n",
    "                       )\n",
    "\n",
    "    fig.update_layout(title=dict(x=0.5,xanchor='center'),\n",
    "                      margin=dict(l=60, r=60, t=50, b=50))\n",
    "    \n",
    "    return (fig)\n"
   ]
  },
  {
   "cell_type": "code",
   "execution_count": 21,
   "metadata": {},
   "outputs": [],
   "source": [
    "@app.callback(\n",
    "    Output(component_id='the_graph_2', component_property='figure'), \n",
    "    [Input(component_id='yaxis_raditem', component_property='value')]\n",
    ")\n",
    "\n",
    "def update_graph(y_axis):\n",
    "\n",
    "    dff = df_new.iloc[479:607]\n",
    "    dff=dff.fillna(0)\n",
    "    barchart = px.bar(data_frame=dff,\n",
    "                      x=dff.Institute,\n",
    "                      y=y_axis,\n",
    "                      color=dff.Study_Mode,               \n",
    "                      title='Student Enrollment by Institite'\n",
    "                     )\n",
    "\n",
    "    barchart.update_layout(xaxis={'categoryorder':'total ascending'},\n",
    "                           title={'xanchor':'center', 'yanchor': 'top', 'y':0.9,'x':0.5,})\n",
    "\n",
    "    return (barchart)\n"
   ]
  },
  {
   "cell_type": "code",
   "execution_count": null,
   "metadata": {},
   "outputs": [
    {
     "name": "stdout",
     "output_type": "stream",
     "text": [
      " * Serving Flask app \"__main__\" (lazy loading)\n",
      " * Environment: production\n",
      "   WARNING: This is a development server. Do not use it in a production deployment.\n",
      "   Use a production WSGI server instead.\n",
      " * Debug mode: off\n"
     ]
    },
    {
     "name": "stderr",
     "output_type": "stream",
     "text": [
      " * Running on http://127.0.0.1:8050/ (Press CTRL+C to quit)\n",
      "127.0.0.1 - - [09/Jul/2020 23:41:42] \"\u001b[37mGET / HTTP/1.1\u001b[0m\" 200 -\n",
      "127.0.0.1 - - [09/Jul/2020 23:41:42] \"\u001b[37mGET /_dash-layout HTTP/1.1\u001b[0m\" 200 -\n",
      "127.0.0.1 - - [09/Jul/2020 23:41:42] \"\u001b[37mGET /_dash-dependencies HTTP/1.1\u001b[0m\" 200 -\n",
      "127.0.0.1 - - [09/Jul/2020 23:41:46] \"\u001b[37mPOST /_dash-update-component HTTP/1.1\u001b[0m\" 200 -\n",
      "127.0.0.1 - - [09/Jul/2020 23:41:46] \"\u001b[37mPOST /_dash-update-component HTTP/1.1\u001b[0m\" 200 -\n",
      "127.0.0.1 - - [09/Jul/2020 23:41:46] \"\u001b[37mPOST /_dash-update-component HTTP/1.1\u001b[0m\" 200 -\n",
      "127.0.0.1 - - [09/Jul/2020 23:41:46] \"\u001b[37mPOST /_dash-update-component HTTP/1.1\u001b[0m\" 200 -\n",
      "127.0.0.1 - - [09/Jul/2020 23:43:09] \"\u001b[37mPOST /_dash-update-component HTTP/1.1\u001b[0m\" 200 -\n",
      "127.0.0.1 - - [09/Jul/2020 23:43:09] \"\u001b[37mPOST /_dash-update-component HTTP/1.1\u001b[0m\" 200 -\n",
      "127.0.0.1 - - [09/Jul/2020 23:43:09] \"\u001b[37mPOST /_dash-update-component HTTP/1.1\u001b[0m\" 200 -\n",
      "127.0.0.1 - - [09/Jul/2020 23:43:09] \"\u001b[37mPOST /_dash-update-component HTTP/1.1\u001b[0m\" 200 -\n",
      "127.0.0.1 - - [09/Jul/2020 23:43:21] \"\u001b[37mPOST /_dash-update-component HTTP/1.1\u001b[0m\" 200 -\n",
      "127.0.0.1 - - [09/Jul/2020 23:43:22] \"\u001b[37mPOST /_dash-update-component HTTP/1.1\u001b[0m\" 200 -\n",
      "127.0.0.1 - - [09/Jul/2020 23:43:22] \"\u001b[37mPOST /_dash-update-component HTTP/1.1\u001b[0m\" 200 -\n",
      "127.0.0.1 - - [09/Jul/2020 23:43:22] \"\u001b[37mPOST /_dash-update-component HTTP/1.1\u001b[0m\" 200 -\n"
     ]
    }
   ],
   "source": [
    "if __name__ == '__main__':\n",
    "    app.run_server(debug=False)"
   ]
  },
  {
   "cell_type": "code",
   "execution_count": null,
   "metadata": {},
   "outputs": [],
   "source": []
  }
 ],
 "metadata": {
  "kernelspec": {
   "display_name": "Python 3",
   "language": "python",
   "name": "python3"
  },
  "language_info": {
   "codemirror_mode": {
    "name": "ipython",
    "version": 3
   },
   "file_extension": ".py",
   "mimetype": "text/x-python",
   "name": "python",
   "nbconvert_exporter": "python",
   "pygments_lexer": "ipython3",
   "version": "3.7.6"
  }
 },
 "nbformat": 4,
 "nbformat_minor": 4
}
